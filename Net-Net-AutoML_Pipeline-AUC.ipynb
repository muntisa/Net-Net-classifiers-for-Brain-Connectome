{
 "cells": [
  {
   "cell_type": "markdown",
   "metadata": {},
   "source": [
    "# Pipelines for Net-Net AutoML classifiers for the best ANN topology\n",
    "\n",
    "For each dataset, classifier and folds:\n",
    "- scaling\n",
    "- feature selection\n",
    "- outerCV\n",
    "\n",
    "We have only one dataset of 500,740 examples with 20 features as Shannon entropies for nodes from Brain Connectome (BCN) and ANNs that predict BCN."
   ]
  },
  {
   "cell_type": "code",
   "execution_count": 1,
   "metadata": {},
   "outputs": [],
   "source": [
    "%reload_ext autoreload\n",
    "%autoreload 2\n",
    "%matplotlib inline\n",
    "\n",
    "# remove warnings\n",
    "import warnings\n",
    "warnings.filterwarnings(\"ignore\", category=DeprecationWarning) "
   ]
  },
  {
   "cell_type": "code",
   "execution_count": 2,
   "metadata": {},
   "outputs": [],
   "source": [
    "import numpy as np\n",
    "import pandas as pd\n",
    "import time\n",
    "import matplotlib.pyplot as plt\n",
    "\n",
    "from sklearn.pipeline import Pipeline\n",
    "from sklearn.model_selection import cross_val_score, GridSearchCV, StratifiedKFold\n",
    "from sklearn.metrics import confusion_matrix,accuracy_score, roc_auc_score,f1_score, recall_score, precision_score\n",
    "from sklearn.utils import class_weight\n",
    "\n",
    "from sklearn.neighbors import KNeighborsClassifier\n",
    "from sklearn.linear_model import LogisticRegression, LassoCV\n",
    "from sklearn.tree import DecisionTreeClassifier\n",
    "from sklearn.ensemble import RandomForestClassifier, ExtraTreesClassifier\n",
    "from xgboost import XGBClassifier\n",
    "from sklearn.svm import SVC\n",
    "from sklearn.gaussian_process.kernels import RBF\n",
    "from sklearn.svm import LinearSVC\n",
    "from sklearn.discriminant_analysis import LinearDiscriminantAnalysis\n",
    "\n",
    "from sklearn.decomposition import PCA\n",
    "from sklearn.preprocessing import StandardScaler, MinMaxScaler\n",
    "from sklearn.feature_selection import RFECV, VarianceThreshold, SelectKBest, chi2\n",
    "from sklearn.feature_selection import SelectFromModel, SelectPercentile, f_classif"
   ]
  },
  {
   "cell_type": "markdown",
   "metadata": {},
   "source": [
    "### Define script parameters"
   ]
  },
  {
   "cell_type": "code",
   "execution_count": 3,
   "metadata": {},
   "outputs": [],
   "source": [
    "# define output variables\n",
    "outVars = ['Class']\n",
    "\n",
    "# define list of folds\n",
    "foldTypes = [10] # [3,5,10]\n",
    "\n",
    "# define a label for output files\n",
    "targetName = 'net-net-brain_Outer_AUC'\n",
    "\n",
    "seed = 42\n",
    "np.random.seed(seed)"
   ]
  },
  {
   "cell_type": "markdown",
   "metadata": {},
   "source": [
    "### Function definitions"
   ]
  },
  {
   "cell_type": "code",
   "execution_count": 4,
   "metadata": {},
   "outputs": [],
   "source": [
    "def  set_weights(y_data, option='balanced'):\n",
    "    \"\"\"Estimate class weights for umbalanced dataset\n",
    "       If ‘balanced’, class weights will be given by n_samples / (n_classes * np.bincount(y)). \n",
    "       If a dictionary is given, keys are classes and values are corresponding class weights. \n",
    "       If None is given, the class weights will be uniform \"\"\"\n",
    "    cw = class_weight.compute_class_weight(option, np.unique(y_data), y_data)\n",
    "    w = {i:j for i,j in zip(np.unique(y_data), cw)}\n",
    "    return w "
   ]
  },
  {
   "cell_type": "markdown",
   "metadata": {},
   "source": [
    "Write a function to get data from the datafile:"
   ]
  },
  {
   "cell_type": "code",
   "execution_count": 5,
   "metadata": {},
   "outputs": [],
   "source": [
    "def getDataFromDataset(sFile, OutVar):\n",
    "    # read details file\n",
    "    print('\\n-> Read dataset', sFile)\n",
    "    df = pd.read_csv(sFile)\n",
    "    print('Shape', df.shape)\n",
    "    # print(list(df.columns))\n",
    "\n",
    "    # select X and Y\n",
    "    ds_y = df[OutVar]\n",
    "    ds_X = df.drop(OutVar,axis = 1)\n",
    "    Xdata = ds_X.values # get values of features\n",
    "    Ydata = ds_y.values # get output values\n",
    "\n",
    "    print('Shape X data:', Xdata.shape)\n",
    "    print('Shape Y data:',Ydata.shape)\n",
    "    \n",
    "    # return data for X and Y, feature names as list\n",
    "    return (Xdata, Ydata, list(ds_X.columns))"
   ]
  },
  {
   "cell_type": "markdown",
   "metadata": {},
   "source": [
    "Define a function to run all the classifiers without scaling or feature selection:"
   ]
  },
  {
   "cell_type": "code",
   "execution_count": 6,
   "metadata": {},
   "outputs": [],
   "source": [
    "def Pipeline_OuterCV(Xdata, Ydata, label = 'my', class_weights = {0: 1, 1: 1}, folds = 3, seed = 42):\n",
    "    # inputs:\n",
    "    # data for X, Y; a label about data, class_weights, number of folds, seeed\n",
    "    \n",
    "    # default: 10-fold CV, 1:1 class weights (balanced dataset)\n",
    "    priors = [(class_weights[0]/(class_weights[0]+class_weights[1])), (class_weights[1]/(class_weights[0]+class_weights[1]))]\n",
    "    \n",
    "    # define classifiers\n",
    "    names = ['KNN', 'LDA', 'LogR', 'DT', 'RF10'] # ['KNN', 'SVML', 'SVMR', 'LR', 'LDA', 'DT', 'RF', 'XGB'']\n",
    "    classifiers = [KNeighborsClassifier(3),\n",
    "                   #SVC(kernel=\"linear\",random_state=seed,class_weight=class_weights,gamma='scale'),\n",
    "                   #SVC(kernel = 'rbf', random_state=seed,class_weight=class_weights,gamma='scale'),\n",
    "                   LinearDiscriminantAnalysis(solver='svd',priors=priors), # No tiene random_state\n",
    "                   LogisticRegression(solver='lbfgs',random_state=seed,class_weight=class_weights),\n",
    "                   DecisionTreeClassifier(random_state = seed, class_weight=class_weights),\n",
    "                   #RandomForestClassifier(n_estimators=2,n_jobs=-1,random_state=seed,class_weight=class_weights),\n",
    "                   #RandomForestClassifier(n_estimators=5,n_jobs=-1,random_state=seed,class_weight=class_weights),\n",
    "                   RandomForestClassifier(n_estimators=10,n_jobs=-1,random_state=seed,class_weight=class_weights),\n",
    "                   #RandomForestClassifier(n_estimators=50,n_jobs=-1,random_state=seed,class_weight=class_weights),\n",
    "                   #RandomForestClassifier(n_estimators=100,n_jobs=-1,random_state=seed,class_weight=class_weights),\n",
    "                   #XGBClassifier(n_jobs=-1,scale_pos_weight= class_weights[0]/class_weights[1],seed=seed)\n",
    "                  ]\n",
    "    # results dataframe: each column for a classifier\n",
    "    df_res = pd.DataFrame(columns=names)\n",
    "\n",
    "    # build each classifier\n",
    "    print('* Building scaling+feature selection+outer '+str(folds)+'-fold CV for '+str(len(names))+' classifiers:', str(names))\n",
    "    total = time.time()\n",
    "    \n",
    "    # define a fold-CV for all the classifier\n",
    "    outer_cv = StratifiedKFold(n_splits=folds,shuffle=True,random_state=seed)\n",
    "    \n",
    "    for name, clf in zip(names, classifiers):\n",
    "        start = time.time()\n",
    "        \n",
    "        # create pipeline: scaler + classifier\n",
    "        estimators = []\n",
    "        \n",
    "        # SCALER\n",
    "        # MinMaxScaler(), StandardScaler(), RobustScaler(), QuantileTransformer(), PowerTransformer()\n",
    "        # estimators.append(('Scaler', StandardScaler()))\n",
    "        \n",
    "        # add Classifier\n",
    "        estimators.append(('Classifier', clf)) \n",
    "        \n",
    "        # create pipeline\n",
    "        model = Pipeline(estimators)\n",
    "        \n",
    "        # evaluate pipeline\n",
    "        scores = cross_val_score(model, Xdata, Ydata, cv=outer_cv, scoring='roc_auc', n_jobs=-1)\n",
    "        \n",
    "        df_res[name] = scores\n",
    "        print('%s, MeanAUC=%0.2f, Time:%0.1f mins' % (name, scores.mean(), (time.time() - start)/60))\n",
    "        \n",
    "    # save results\n",
    "    resFile = './results/'+str(label)+'_Outer-'+str(folds)+'-foldCV.csv'\n",
    "    df_res.to_csv(resFile, index=False)\n",
    "    print('* Scores saved', resFile)\n",
    "        \n",
    "    print('Total time:', (time.time() - total)/60, ' mins')             \n",
    "    \n",
    "    # print all results\n",
    "    # print(df_res)\n",
    "    \n",
    "    # generate a boxplot for all classifiers\n",
    "    boxplot = df_res.boxplot(column=names)\n",
    "    \n",
    "    # save the figure\n",
    "    plotFile = './results/'+str(label)+'.Outer-'+str(folds)+'-foldCV.jpeg'\n",
    "    \n",
    "    boxplot.figure.savefig(plotFile,format='jpeg',dpi=100)\n",
    "    print('* Saving plot:', plotFile)\n",
    "    \n",
    "    # clean each figure\n",
    "    boxplot.figure.clf()\n",
    "    \n",
    "    # return AUC scores for all classifiers as dataframe (each column a classifier)\n",
    "    return df_res"
   ]
  },
  {
   "cell_type": "markdown",
   "metadata": {},
   "source": [
    "### Calculations\n",
    "\n",
    "Set the dataset file as *sFile* and run the pipeline for different classifiers (no feature selection, no scaling):"
   ]
  },
  {
   "cell_type": "code",
   "execution_count": 7,
   "metadata": {
    "scrolled": true
   },
   "outputs": [
    {
     "name": "stdout",
     "output_type": "stream",
     "text": [
      "\n",
      "-> Read dataset ./datasets/ds.net-net_brain.csv\n",
      "Shape (500470, 21)\n",
      "Shape X data: (500470, 20)\n",
      "Shape Y data: (500470,)\n",
      "Class weights =  {0: 0.8494117407450152, 1: 1.2154882645527318}\n",
      "* Building scaling+feature selection+outer 10-fold CV for 5 classifiers: ['KNN', 'LDA', 'LogR', 'DT', 'RF10']\n",
      "KNN, MeanAUC=1.00, Time:0.8 mins\n",
      "LDA, MeanAUC=0.92, Time:0.2 mins\n",
      "LogR, MeanAUC=0.95, Time:0.2 mins\n",
      "DT, MeanAUC=0.99, Time:0.2 mins\n",
      "RF10, MeanAUC=1.00, Time:0.3 mins\n",
      "* Scores saved ./results/Class_Outer-10-foldCV.csv\n",
      "Total time: 1.7323662201563517  mins\n",
      "* Saving plot: ./results/Class.Outer-10-foldCV.jpeg\n"
     ]
    },
    {
     "data": {
      "text/plain": [
       "<Figure size 432x288 with 0 Axes>"
      ]
     },
     "metadata": {},
     "output_type": "display_data"
    }
   ],
   "source": [
    "# for each subset file\n",
    "df_results = None # all results \n",
    "\n",
    "for OutVar in outVars:\n",
    "    sFile = './datasets/ds.net-net_brain.csv'\n",
    "\n",
    "    # get data from file\n",
    "    Xdata, Ydata, Features = getDataFromDataset(sFile,OutVar)\n",
    "\n",
    "    # Calculate class weights\n",
    "    class_weights = set_weights(Ydata)\n",
    "    print(\"Class weights = \", class_weights)\n",
    "        \n",
    "    # try different folds for each subset -> box plots\n",
    "    for folds in foldTypes:\n",
    "        \n",
    "        # calculate outer CV for different binary classifiers\n",
    "        df_fold = Pipeline_OuterCV(Xdata, Ydata, label = OutVar, class_weights = class_weights, folds = folds, seed = seed)\n",
    "        df_fold['Dataset'] = OutVar\n",
    "        df_fold['folds'] = folds\n",
    "        \n",
    "        # add each result to a summary dataframe\n",
    "        df_results = pd.concat([df_results,df_fold])"
   ]
  },
  {
   "cell_type": "code",
   "execution_count": 8,
   "metadata": {},
   "outputs": [
    {
     "name": "stdout",
     "output_type": "stream",
     "text": [
      "\n",
      "==>> Saving summary ./results/Summary_net-net-brain_Outer_AUCCV.csv\n"
     ]
    },
    {
     "data": {
      "text/html": [
       "<div>\n",
       "<style scoped>\n",
       "    .dataframe tbody tr th:only-of-type {\n",
       "        vertical-align: middle;\n",
       "    }\n",
       "\n",
       "    .dataframe tbody tr th {\n",
       "        vertical-align: top;\n",
       "    }\n",
       "\n",
       "    .dataframe thead th {\n",
       "        text-align: right;\n",
       "    }\n",
       "</style>\n",
       "<table border=\"1\" class=\"dataframe\">\n",
       "  <thead>\n",
       "    <tr style=\"text-align: right;\">\n",
       "      <th></th>\n",
       "      <th>KNN</th>\n",
       "      <th>LDA</th>\n",
       "      <th>LogR</th>\n",
       "      <th>DT</th>\n",
       "      <th>RF10</th>\n",
       "      <th>Dataset</th>\n",
       "      <th>folds</th>\n",
       "    </tr>\n",
       "  </thead>\n",
       "  <tbody>\n",
       "    <tr>\n",
       "      <th>0</th>\n",
       "      <td>0.995593</td>\n",
       "      <td>0.919452</td>\n",
       "      <td>0.950975</td>\n",
       "      <td>0.992623</td>\n",
       "      <td>0.998329</td>\n",
       "      <td>Class</td>\n",
       "      <td>10</td>\n",
       "    </tr>\n",
       "    <tr>\n",
       "      <th>1</th>\n",
       "      <td>0.995470</td>\n",
       "      <td>0.921660</td>\n",
       "      <td>0.952905</td>\n",
       "      <td>0.992401</td>\n",
       "      <td>0.998236</td>\n",
       "      <td>Class</td>\n",
       "      <td>10</td>\n",
       "    </tr>\n",
       "    <tr>\n",
       "      <th>2</th>\n",
       "      <td>0.995708</td>\n",
       "      <td>0.920259</td>\n",
       "      <td>0.952415</td>\n",
       "      <td>0.992048</td>\n",
       "      <td>0.998262</td>\n",
       "      <td>Class</td>\n",
       "      <td>10</td>\n",
       "    </tr>\n",
       "    <tr>\n",
       "      <th>3</th>\n",
       "      <td>0.996241</td>\n",
       "      <td>0.920691</td>\n",
       "      <td>0.952484</td>\n",
       "      <td>0.992709</td>\n",
       "      <td>0.998134</td>\n",
       "      <td>Class</td>\n",
       "      <td>10</td>\n",
       "    </tr>\n",
       "    <tr>\n",
       "      <th>4</th>\n",
       "      <td>0.995673</td>\n",
       "      <td>0.920356</td>\n",
       "      <td>0.953761</td>\n",
       "      <td>0.992436</td>\n",
       "      <td>0.998333</td>\n",
       "      <td>Class</td>\n",
       "      <td>10</td>\n",
       "    </tr>\n",
       "    <tr>\n",
       "      <th>5</th>\n",
       "      <td>0.996017</td>\n",
       "      <td>0.919154</td>\n",
       "      <td>0.951848</td>\n",
       "      <td>0.992482</td>\n",
       "      <td>0.998230</td>\n",
       "      <td>Class</td>\n",
       "      <td>10</td>\n",
       "    </tr>\n",
       "    <tr>\n",
       "      <th>6</th>\n",
       "      <td>0.995762</td>\n",
       "      <td>0.921915</td>\n",
       "      <td>0.953526</td>\n",
       "      <td>0.992506</td>\n",
       "      <td>0.998322</td>\n",
       "      <td>Class</td>\n",
       "      <td>10</td>\n",
       "    </tr>\n",
       "    <tr>\n",
       "      <th>7</th>\n",
       "      <td>0.995470</td>\n",
       "      <td>0.921478</td>\n",
       "      <td>0.952871</td>\n",
       "      <td>0.992694</td>\n",
       "      <td>0.998119</td>\n",
       "      <td>Class</td>\n",
       "      <td>10</td>\n",
       "    </tr>\n",
       "    <tr>\n",
       "      <th>8</th>\n",
       "      <td>0.995867</td>\n",
       "      <td>0.917618</td>\n",
       "      <td>0.951444</td>\n",
       "      <td>0.992154</td>\n",
       "      <td>0.998183</td>\n",
       "      <td>Class</td>\n",
       "      <td>10</td>\n",
       "    </tr>\n",
       "    <tr>\n",
       "      <th>9</th>\n",
       "      <td>0.996368</td>\n",
       "      <td>0.918184</td>\n",
       "      <td>0.950809</td>\n",
       "      <td>0.993322</td>\n",
       "      <td>0.998405</td>\n",
       "      <td>Class</td>\n",
       "      <td>10</td>\n",
       "    </tr>\n",
       "  </tbody>\n",
       "</table>\n",
       "</div>"
      ],
      "text/plain": [
       "        KNN       LDA      LogR        DT      RF10 Dataset  folds\n",
       "0  0.995593  0.919452  0.950975  0.992623  0.998329   Class     10\n",
       "1  0.995470  0.921660  0.952905  0.992401  0.998236   Class     10\n",
       "2  0.995708  0.920259  0.952415  0.992048  0.998262   Class     10\n",
       "3  0.996241  0.920691  0.952484  0.992709  0.998134   Class     10\n",
       "4  0.995673  0.920356  0.953761  0.992436  0.998333   Class     10\n",
       "5  0.996017  0.919154  0.951848  0.992482  0.998230   Class     10\n",
       "6  0.995762  0.921915  0.953526  0.992506  0.998322   Class     10\n",
       "7  0.995470  0.921478  0.952871  0.992694  0.998119   Class     10\n",
       "8  0.995867  0.917618  0.951444  0.992154  0.998183   Class     10\n",
       "9  0.996368  0.918184  0.950809  0.993322  0.998405   Class     10"
      ]
     },
     "execution_count": 8,
     "metadata": {},
     "output_type": "execute_result"
    }
   ],
   "source": [
    "# save all results\n",
    "summaryFile = './results/Summary_'+targetName+'CV.csv'\n",
    "print('\\n==>> Saving summary', summaryFile)\n",
    "df_results.to_csv(summaryFile, index=False)\n",
    "df_results"
   ]
  },
  {
   "cell_type": "markdown",
   "metadata": {},
   "source": [
    "## Box plots from results\n",
    "\n",
    "Load the results from file (if you dont want to run the previous calculations):"
   ]
  },
  {
   "cell_type": "code",
   "execution_count": 9,
   "metadata": {},
   "outputs": [
    {
     "name": "stdout",
     "output_type": "stream",
     "text": [
      "\n",
      "-> Read summary results ./results/Summary_net-net-brain_Outer_AUCCV.csv\n"
     ]
    }
   ],
   "source": [
    "summaryFile = './results/Summary_'+targetName+'CV.csv'\n",
    "\n",
    "print('\\n-> Read summary results', summaryFile)\n",
    "df_results = pd.read_csv(summaryFile)"
   ]
  },
  {
   "cell_type": "markdown",
   "metadata": {},
   "source": [
    "Get list of classifiers from output file:"
   ]
  },
  {
   "cell_type": "code",
   "execution_count": 10,
   "metadata": {},
   "outputs": [
    {
     "data": {
      "text/plain": [
       "['KNN', 'LDA', 'LogR', 'DT', 'RF10']"
      ]
     },
     "execution_count": 10,
     "metadata": {},
     "output_type": "execute_result"
    }
   ],
   "source": [
    "classifierNames = list(df_results.columns)\n",
    "classifierNames.remove('Dataset')\n",
    "classifierNames.remove('folds')\n",
    "classifierNames"
   ]
  },
  {
   "cell_type": "markdown",
   "metadata": {},
   "source": [
    "Get list of folds:"
   ]
  },
  {
   "cell_type": "code",
   "execution_count": 11,
   "metadata": {},
   "outputs": [
    {
     "data": {
      "text/plain": [
       "[10]"
      ]
     },
     "execution_count": 11,
     "metadata": {},
     "output_type": "execute_result"
    }
   ],
   "source": [
    "foldTypes = list(set(df_results['folds']))\n",
    "foldTypes.sort()\n",
    "foldTypes"
   ]
  },
  {
   "cell_type": "markdown",
   "metadata": {},
   "source": [
    "### Boxplots by Dataset\n",
    "\n",
    "Create grouped plots for each dataset and number of folds:"
   ]
  },
  {
   "cell_type": "code",
   "execution_count": 12,
   "metadata": {},
   "outputs": [
    {
     "name": "stdout",
     "output_type": "stream",
     "text": [
      "==> Fold = 10\n"
     ]
    },
    {
     "data": {
      "text/plain": [
       "<Figure size 432x288 with 0 Axes>"
      ]
     },
     "metadata": {},
     "output_type": "display_data"
    },
    {
     "data": {
      "image/png": "[encoded data removed]",
      "text/plain": [
       "<Figure size 1152x864 with 1 Axes>"
      ]
     },
     "metadata": {},
     "output_type": "display_data"
    }
   ],
   "source": [
    "for f in foldTypes:\n",
    "    plt.figure()\n",
    "    plt.clf()\n",
    "    print('==> Fold =', f)\n",
    "    grouped = df_results[df_results['folds']==f].drop(['folds'], axis=1).groupby('Dataset')\n",
    "    grouped.boxplot(figsize=(16,12), return_type='axes')\n",
    "    plt.savefig('./results/byDataset_'+targetName+'-'+str(f)+'-foldCV.png')\n",
    "    plt.show()"
   ]
  },
  {
   "cell_type": "markdown",
   "metadata": {},
   "source": [
    "Great results with AUC values > 0.99! Let's see the evolution of AUC with the number of trees in the next script.\n",
    "\n",
    "Hf with ML! *@muntisa*"
   ]
  }
 ],
 "metadata": {
  "kernelspec": {
   "display_name": "Python 3",
   "language": "python",
   "name": "python3"
  },
  "language_info": {
   "codemirror_mode": {
    "name": "ipython",
    "version": 3
   },
   "file_extension": ".py",
   "mimetype": "text/x-python",
   "name": "python",
   "nbconvert_exporter": "python",
   "pygments_lexer": "ipython3",
   "version": "3.7.1"
  }
 },
 "nbformat": 4,
 "nbformat_minor": 2
}
